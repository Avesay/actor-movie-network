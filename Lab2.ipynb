{
 "nbformat": 4,
 "nbformat_minor": 0,
 "metadata": {
  "colab": {
   "provenance": []
  },
  "kernelspec": {
   "name": "python3",
   "display_name": "Python 3 (ipykernel)",
   "language": "python"
  },
  "language_info": {
   "name": "python"
  }
 },
 "cells": [
  {
   "cell_type": "markdown",
   "source": [
    "# Data Loading"
   ],
   "metadata": {
    "id": "Bm8hA35V1wL-"
   }
  },
  {
   "metadata": {
    "ExecuteTime": {
     "end_time": "2025-04-25T20:22:23.738596Z",
     "start_time": "2025-04-25T20:22:09.337130Z"
    }
   },
   "cell_type": "code",
   "source": "pip install pandas",
   "outputs": [
    {
     "name": "stdout",
     "output_type": "stream",
     "text": [
      "Collecting pandas\n",
      "  Using cached pandas-2.2.3-cp312-cp312-win_amd64.whl.metadata (19 kB)\n",
      "Requirement already satisfied: numpy>=1.26.0 in c:\\users\\julia\\appdata\\local\\programs\\python\\python312\\lib\\site-packages (from pandas) (2.1.2)\n",
      "Requirement already satisfied: python-dateutil>=2.8.2 in c:\\users\\julia\\appdata\\local\\programs\\python\\python312\\lib\\site-packages (from pandas) (2.9.0.post0)\n",
      "Collecting pytz>=2020.1 (from pandas)\n",
      "  Using cached pytz-2025.2-py2.py3-none-any.whl.metadata (22 kB)\n",
      "Collecting tzdata>=2022.7 (from pandas)\n",
      "  Using cached tzdata-2025.2-py2.py3-none-any.whl.metadata (1.4 kB)\n",
      "Requirement already satisfied: six>=1.5 in c:\\users\\julia\\appdata\\local\\programs\\python\\python312\\lib\\site-packages (from python-dateutil>=2.8.2->pandas) (1.16.0)\n",
      "Using cached pandas-2.2.3-cp312-cp312-win_amd64.whl (11.5 MB)\n",
      "Downloading pytz-2025.2-py2.py3-none-any.whl (509 kB)\n",
      "Downloading tzdata-2025.2-py2.py3-none-any.whl (347 kB)\n",
      "Installing collected packages: pytz, tzdata, pandas\n",
      "Successfully installed pandas-2.2.3 pytz-2025.2 tzdata-2025.2\n",
      "Note: you may need to restart the kernel to use updated packages.\n"
     ]
    }
   ],
   "execution_count": 1
  },
  {
   "cell_type": "code",
   "metadata": {
    "colab": {
     "base_uri": "https://localhost:8080/",
     "height": 310
    },
    "id": "vjvvREWy_DJA",
    "outputId": "5521d75a-5ae1-426d-cbd3-4a9c58f082e2",
    "ExecuteTime": {
     "end_time": "2025-04-25T20:22:59.238450Z",
     "start_time": "2025-04-25T20:22:56.722822Z"
    }
   },
   "source": [
    "import pandas as pd\n",
    "\n",
    "df_actor_pairs = pd.read_csv('actor_movies.csv')\n",
    "df_lead_roles = pd.read_csv('lead_roles.csv')\n",
    "df_actor_pairs.head()"
   ],
   "outputs": [
    {
     "data": {
      "text/plain": [
       "         Actor 1 Actor ID 1          Actor 2 Actor ID 2   Movie ID  \\\n",
       "0  Lauren Bacall  nm0000002     Laura Bailey  nm0047362  tt0117057   \n",
       "1  Lauren Bacall  nm0000002     William Cain  nm0128972  tt0117057   \n",
       "2  Lauren Bacall  nm0000002    Rudy Ruggiero  nm0173979  tt0117057   \n",
       "3  Lauren Bacall  nm0000002      Cindy Guyer  nm0349875  tt0117057   \n",
       "4  Lauren Bacall  nm0000002  Anne O'Sullivan  nm0642721  tt0117057   \n",
       "\n",
       "                Movie Title  Year  Runtime Minutes                Genres  \n",
       "0  The Mirror Has Two Faces  1996              126  Comedy,Drama,Romance  \n",
       "1  The Mirror Has Two Faces  1996              126  Comedy,Drama,Romance  \n",
       "2  The Mirror Has Two Faces  1996              126  Comedy,Drama,Romance  \n",
       "3  The Mirror Has Two Faces  1996              126  Comedy,Drama,Romance  \n",
       "4  The Mirror Has Two Faces  1996              126  Comedy,Drama,Romance  "
      ],
      "text/html": [
       "<div>\n",
       "<style scoped>\n",
       "    .dataframe tbody tr th:only-of-type {\n",
       "        vertical-align: middle;\n",
       "    }\n",
       "\n",
       "    .dataframe tbody tr th {\n",
       "        vertical-align: top;\n",
       "    }\n",
       "\n",
       "    .dataframe thead th {\n",
       "        text-align: right;\n",
       "    }\n",
       "</style>\n",
       "<table border=\"1\" class=\"dataframe\">\n",
       "  <thead>\n",
       "    <tr style=\"text-align: right;\">\n",
       "      <th></th>\n",
       "      <th>Actor 1</th>\n",
       "      <th>Actor ID 1</th>\n",
       "      <th>Actor 2</th>\n",
       "      <th>Actor ID 2</th>\n",
       "      <th>Movie ID</th>\n",
       "      <th>Movie Title</th>\n",
       "      <th>Year</th>\n",
       "      <th>Runtime Minutes</th>\n",
       "      <th>Genres</th>\n",
       "    </tr>\n",
       "  </thead>\n",
       "  <tbody>\n",
       "    <tr>\n",
       "      <th>0</th>\n",
       "      <td>Lauren Bacall</td>\n",
       "      <td>nm0000002</td>\n",
       "      <td>Laura Bailey</td>\n",
       "      <td>nm0047362</td>\n",
       "      <td>tt0117057</td>\n",
       "      <td>The Mirror Has Two Faces</td>\n",
       "      <td>1996</td>\n",
       "      <td>126</td>\n",
       "      <td>Comedy,Drama,Romance</td>\n",
       "    </tr>\n",
       "    <tr>\n",
       "      <th>1</th>\n",
       "      <td>Lauren Bacall</td>\n",
       "      <td>nm0000002</td>\n",
       "      <td>William Cain</td>\n",
       "      <td>nm0128972</td>\n",
       "      <td>tt0117057</td>\n",
       "      <td>The Mirror Has Two Faces</td>\n",
       "      <td>1996</td>\n",
       "      <td>126</td>\n",
       "      <td>Comedy,Drama,Romance</td>\n",
       "    </tr>\n",
       "    <tr>\n",
       "      <th>2</th>\n",
       "      <td>Lauren Bacall</td>\n",
       "      <td>nm0000002</td>\n",
       "      <td>Rudy Ruggiero</td>\n",
       "      <td>nm0173979</td>\n",
       "      <td>tt0117057</td>\n",
       "      <td>The Mirror Has Two Faces</td>\n",
       "      <td>1996</td>\n",
       "      <td>126</td>\n",
       "      <td>Comedy,Drama,Romance</td>\n",
       "    </tr>\n",
       "    <tr>\n",
       "      <th>3</th>\n",
       "      <td>Lauren Bacall</td>\n",
       "      <td>nm0000002</td>\n",
       "      <td>Cindy Guyer</td>\n",
       "      <td>nm0349875</td>\n",
       "      <td>tt0117057</td>\n",
       "      <td>The Mirror Has Two Faces</td>\n",
       "      <td>1996</td>\n",
       "      <td>126</td>\n",
       "      <td>Comedy,Drama,Romance</td>\n",
       "    </tr>\n",
       "    <tr>\n",
       "      <th>4</th>\n",
       "      <td>Lauren Bacall</td>\n",
       "      <td>nm0000002</td>\n",
       "      <td>Anne O'Sullivan</td>\n",
       "      <td>nm0642721</td>\n",
       "      <td>tt0117057</td>\n",
       "      <td>The Mirror Has Two Faces</td>\n",
       "      <td>1996</td>\n",
       "      <td>126</td>\n",
       "      <td>Comedy,Drama,Romance</td>\n",
       "    </tr>\n",
       "  </tbody>\n",
       "</table>\n",
       "</div>"
      ]
     },
     "execution_count": 3,
     "metadata": {},
     "output_type": "execute_result"
    }
   ],
   "execution_count": 3
  },
  {
   "cell_type": "markdown",
   "source": [
    "# Data Processing"
   ],
   "metadata": {
    "id": "pZ2p1Lbe11dw"
   }
  },
  {
   "cell_type": "code",
   "source": [
    "df_actor_pairs['Sorted IDs'] = df_actor_pairs.apply(lambda row: tuple(sorted((row['Actor ID 1'],\n",
    "                                                                              row['Actor ID 2'])))\n",
    "                                                                              + (row['Movie ID'],), axis=1)\n",
    "df_actor_pairs = df_actor_pairs.drop_duplicates(subset=['Sorted IDs'], keep='first')\n",
    "df_actor_pairs = df_actor_pairs.drop(columns=['Sorted IDs'])"
   ],
   "metadata": {
    "id": "xHmZKvPY0K9b",
    "ExecuteTime": {
     "end_time": "2025-04-25T20:23:25.504136Z",
     "start_time": "2025-04-25T20:23:16.365074Z"
    }
   },
   "outputs": [],
   "execution_count": 4
  },
  {
   "cell_type": "code",
   "source": [
    "pair_counts = df_actor_pairs.groupby(['Actor ID 1', 'Actor ID 2']).size().reset_index(name='appearances')\n",
    "\n",
    "filtered_pairs = pair_counts[pair_counts['appearances'] > 1]\n",
    "\n",
    "filtered_pairs.head()"
   ],
   "metadata": {
    "colab": {
     "base_uri": "https://localhost:8080/",
     "height": 206
    },
    "id": "acd3PgmJ_gcU",
    "outputId": "fb55dd3b-a6f2-4526-edd2-60f9f08b9750",
    "ExecuteTime": {
     "end_time": "2025-04-25T20:24:06.087063Z",
     "start_time": "2025-04-25T20:24:05.753030Z"
    }
   },
   "outputs": [
    {
     "data": {
      "text/plain": [
       "    Actor ID 1 Actor ID 2  appearances\n",
       "52   nm0000004  nm0413147            2\n",
       "158  nm0000045  nm0157300            2\n",
       "163  nm0000045  nm0398935            2\n",
       "168  nm0000045  nm0490492            2\n",
       "169  nm0000045  nm0498044            2"
      ],
      "text/html": [
       "<div>\n",
       "<style scoped>\n",
       "    .dataframe tbody tr th:only-of-type {\n",
       "        vertical-align: middle;\n",
       "    }\n",
       "\n",
       "    .dataframe tbody tr th {\n",
       "        vertical-align: top;\n",
       "    }\n",
       "\n",
       "    .dataframe thead th {\n",
       "        text-align: right;\n",
       "    }\n",
       "</style>\n",
       "<table border=\"1\" class=\"dataframe\">\n",
       "  <thead>\n",
       "    <tr style=\"text-align: right;\">\n",
       "      <th></th>\n",
       "      <th>Actor ID 1</th>\n",
       "      <th>Actor ID 2</th>\n",
       "      <th>appearances</th>\n",
       "    </tr>\n",
       "  </thead>\n",
       "  <tbody>\n",
       "    <tr>\n",
       "      <th>52</th>\n",
       "      <td>nm0000004</td>\n",
       "      <td>nm0413147</td>\n",
       "      <td>2</td>\n",
       "    </tr>\n",
       "    <tr>\n",
       "      <th>158</th>\n",
       "      <td>nm0000045</td>\n",
       "      <td>nm0157300</td>\n",
       "      <td>2</td>\n",
       "    </tr>\n",
       "    <tr>\n",
       "      <th>163</th>\n",
       "      <td>nm0000045</td>\n",
       "      <td>nm0398935</td>\n",
       "      <td>2</td>\n",
       "    </tr>\n",
       "    <tr>\n",
       "      <th>168</th>\n",
       "      <td>nm0000045</td>\n",
       "      <td>nm0490492</td>\n",
       "      <td>2</td>\n",
       "    </tr>\n",
       "    <tr>\n",
       "      <th>169</th>\n",
       "      <td>nm0000045</td>\n",
       "      <td>nm0498044</td>\n",
       "      <td>2</td>\n",
       "    </tr>\n",
       "  </tbody>\n",
       "</table>\n",
       "</div>"
      ]
     },
     "execution_count": 5,
     "metadata": {},
     "output_type": "execute_result"
    }
   ],
   "execution_count": 5
  },
  {
   "cell_type": "code",
   "source": [
    "actors = pd.concat([filtered_pairs['Actor ID 1'], filtered_pairs['Actor ID 2']]).unique()"
   ],
   "metadata": {
    "id": "6iUlzd72C-_m",
    "ExecuteTime": {
     "end_time": "2025-04-25T20:24:09.572592Z",
     "start_time": "2025-04-25T20:24:09.562697Z"
    }
   },
   "outputs": [],
   "execution_count": 6
  },
  {
   "cell_type": "markdown",
   "source": [
    "# Network Construction"
   ],
   "metadata": {
    "id": "XazOzsCQ2jvn"
   }
  },
  {
   "cell_type": "code",
   "source": [
    "import networkx as nx\n",
    "\n",
    "G = nx.Graph()\n",
    "\n",
    "G.add_nodes_from(actors)\n",
    "\n",
    "for index, row in filtered_pairs.iterrows():\n",
    "  G.add_edge(row['Actor ID 1'], row['Actor ID 2'], weight=row['appearances'])\n",
    "\n",
    "print(f\"Number of Nodes: {G.number_of_nodes()}\")\n",
    "print(f\"Number of Edges: {G.number_of_edges()}\")\n"
   ],
   "metadata": {
    "colab": {
     "base_uri": "https://localhost:8080/"
    },
    "id": "65C0X3zlCQ8y",
    "outputId": "e3a7706b-ea23-4756-ba32-233b0bdb3c97",
    "ExecuteTime": {
     "end_time": "2025-04-25T20:24:14.997358Z",
     "start_time": "2025-04-25T20:24:13.025175Z"
    }
   },
   "outputs": [
    {
     "name": "stdout",
     "output_type": "stream",
     "text": [
      "Number of Nodes: 6210\n",
      "Number of Edges: 8240\n"
     ]
    }
   ],
   "execution_count": 7
  },
  {
   "cell_type": "markdown",
   "source": [
    "# Identifying Key Influencers in Actor Network"
   ],
   "metadata": {
    "id": "C4mwDPQ_7Hc8"
   }
  },
  {
   "cell_type": "code",
   "source": [
    "from collections import Counter\n",
    "\n",
    "degree_centrality = nx.degree_centrality(G)\n",
    "\n",
    "top_10_actors = sorted(degree_centrality.items(), key=lambda kv: kv[1], reverse=True)[:10]\n",
    "\n",
    "for actor_id in top_10_actors:\n",
    "  actor = df_actor_pairs[(df_actor_pairs['Actor ID 1'] == actor_id[0])]\n",
    "  print(f\"ID: {actor_id[0]}\\nName: {actor['Actor 1'].unique()[0]}\\nScore: {actor_id[1]}\\n\")\n",
    "  genres = Counter(actor['Genres'].str.cat(sep=',').split(',')).most_common(5)\n",
    "  for genre in genres:\n",
    "    print(f\"- {genre[0]}\")\n",
    "  print()"
   ],
   "metadata": {
    "colab": {
     "base_uri": "https://localhost:8080/"
    },
    "id": "v8EkjKUJFS29",
    "outputId": "264d3df5-deac-427a-a46f-ea3ad6972659",
    "ExecuteTime": {
     "end_time": "2025-04-25T20:31:01.565866Z",
     "start_time": "2025-04-25T20:27:35.676056Z"
    }
   },
   "outputs": [
    {
     "name": "stdout",
     "output_type": "stream",
     "text": [
      "ID: nm1116175\n",
      "Name: Katie Jackson\n",
      "Score: 0.005475922048639072\n",
      "\n",
      "- Adventure\n",
      "- Fantasy\n",
      "- Action\n",
      "- Drama\n",
      "\n",
      "ID: nm0000276\n",
      "Name: Sean Astin\n",
      "Score: 0.005314865517796747\n",
      "\n",
      "- Adventure\n",
      "- Action\n",
      "- Drama\n",
      "- Comedy\n",
      "- Family\n",
      "\n",
      "ID: nm0000704\n",
      "Name: Elijah Wood\n",
      "Score: 0.005314865517796747\n",
      "\n",
      "- Drama\n",
      "- Action\n",
      "- Adventure\n",
      "- Romance\n",
      "- Sci-Fi\n",
      "\n",
      "ID: nm0005212\n",
      "Name: Ian McKellen\n",
      "Score: 0.005314865517796747\n",
      "\n",
      "- Drama\n",
      "- Action\n",
      "- Adventure\n",
      "- Biography\n",
      "\n",
      "ID: nm0089217\n",
      "Name: Orlando Bloom\n",
      "Score: 0.005314865517796747\n",
      "\n",
      "- Action\n",
      "- Adventure\n",
      "- Drama\n",
      "- Fantasy\n",
      "\n",
      "ID: nm0101710\n",
      "Name: Billy Boyd\n",
      "Score: 0.005314865517796747\n",
      "\n",
      "- Action\n",
      "- Adventure\n",
      "- Drama\n",
      "\n",
      "ID: nm0413309\n",
      "Name: Billy Jackson\n",
      "Score: 0.005314865517796747\n",
      "\n",
      "- Drama\n",
      "- Action\n",
      "- Adventure\n",
      "- Fantasy\n",
      "- Thriller\n",
      "\n",
      "ID: nm0597480\n",
      "Name: Dominic Monaghan\n",
      "Score: 0.005314865517796747\n",
      "\n",
      "- Action\n",
      "- Adventure\n",
      "- Drama\n",
      "\n",
      "ID: nm0721615\n",
      "Name: Don Reynolds\n",
      "Score: 0.005314865517796747\n",
      "\n",
      "- Action\n",
      "- Adventure\n",
      "- Drama\n",
      "\n",
      "ID: nm0722636\n",
      "Name: John Rhys-Davies\n",
      "Score: 0.005314865517796747\n",
      "\n",
      "- Action\n",
      "- Adventure\n",
      "- Drama\n",
      "\n"
     ]
    }
   ],
   "execution_count": 12
  },
  {
   "cell_type": "code",
   "source": [
    "closeness_centrality = nx.closeness_centrality(G)\n",
    "pagerank = nx.pagerank(G, alpha=0.9)"
   ],
   "metadata": {
    "id": "djzD-GSdoNsm",
    "ExecuteTime": {
     "end_time": "2025-04-25T20:31:32.068012Z",
     "start_time": "2025-04-25T20:31:31.008087Z"
    }
   },
   "outputs": [],
   "execution_count": 13
  },
  {
   "cell_type": "code",
   "source": [
    "degree_centrality_df = pd.DataFrame(degree_centrality.items(),\n",
    "                                    columns=['Actor ID 1', 'Degree Centrality'])\n",
    "closeness_centrality_df = pd.DataFrame(closeness_centrality.items(),\n",
    "                                    columns=['Actor ID 1', 'Closeness Centrality'])\n",
    "pagerank_df = pd.DataFrame(pagerank.items(),\n",
    "                                    columns=['Actor ID 1', 'Page Rank'])"
   ],
   "metadata": {
    "id": "WIZFZXPqoWGz",
    "ExecuteTime": {
     "end_time": "2025-04-25T20:31:48.874806Z",
     "start_time": "2025-04-25T20:31:48.857607Z"
    }
   },
   "outputs": [],
   "execution_count": 14
  },
  {
   "cell_type": "code",
   "source": [
    "from scipy.stats import pearsonr\n",
    "\n",
    "merged_df1 = pd.merge(df_actor_pairs[[\"Actor ID 1\", \"Movie ID\"]],\n",
    "                     df_lead_roles, left_on='Movie ID', right_on='movie', how='inner')\n",
    "merged_df2 = pd.merge(df_actor_pairs[[\"Actor ID 2\", \"Movie ID\"]],\n",
    "                     df_lead_roles, left_on='Movie ID', right_on='movie', how='inner')\n",
    "\n",
    "merged_df2.rename(columns={'Actor ID 2': 'Actor ID 1'}, inplace=True)\n",
    "\n",
    "merged_df = pd.concat([merged_df1, merged_df2])\n",
    "\n",
    "merged_df['Lead Role'] = (merged_df['Actor ID 1'] == merged_df['actor']).astype(int)\n",
    "merged_df = merged_df[['Actor ID 1', 'Movie ID', 'Lead Role']].drop_duplicates()\n",
    "\n",
    "merged_df = pd.merge(merged_df, degree_centrality_df, on='Actor ID 1', how='inner')\n",
    "merged_df = pd.merge(merged_df, closeness_centrality_df, on='Actor ID 1', how='inner')\n",
    "merged_df = pd.merge(merged_df, pagerank_df, on='Actor ID 1', how='inner')\n",
    "df = merged_df.sort_values(by=['Actor ID 1', 'Movie ID', 'Lead Role'], ascending=[True, True, False])\n",
    "df = df.drop_duplicates(subset=['Actor ID 1', 'Movie ID'], keep='first')\n",
    "\n",
    "df.head()"
   ],
   "metadata": {
    "id": "83jWYV5Y7qPk",
    "colab": {
     "base_uri": "https://localhost:8080/",
     "height": 206
    },
    "outputId": "24593059-32ec-4e26-8cfa-713437a9d6b5",
    "ExecuteTime": {
     "end_time": "2025-04-25T20:31:53.911974Z",
     "start_time": "2025-04-25T20:31:50.675398Z"
    }
   },
   "outputs": [
    {
     "data": {
      "text/plain": [
       "  Actor ID 1   Movie ID  Lead Role  Degree Centrality  Closeness Centrality  \\\n",
       "4  nm0000004  tt0077975          1           0.000161              0.000161   \n",
       "2  nm0000004  tt0078723          1           0.000161              0.000161   \n",
       "0  nm0000004  tt0080455          1           0.000161              0.000161   \n",
       "6  nm0000045  tt0067824          1           0.000966              0.000966   \n",
       "8  nm0000045  tt0068767          1           0.000966              0.000966   \n",
       "\n",
       "   Page Rank  \n",
       "4   0.000161  \n",
       "2   0.000161  \n",
       "0   0.000161  \n",
       "6   0.000161  \n",
       "8   0.000161  "
      ],
      "text/html": [
       "<div>\n",
       "<style scoped>\n",
       "    .dataframe tbody tr th:only-of-type {\n",
       "        vertical-align: middle;\n",
       "    }\n",
       "\n",
       "    .dataframe tbody tr th {\n",
       "        vertical-align: top;\n",
       "    }\n",
       "\n",
       "    .dataframe thead th {\n",
       "        text-align: right;\n",
       "    }\n",
       "</style>\n",
       "<table border=\"1\" class=\"dataframe\">\n",
       "  <thead>\n",
       "    <tr style=\"text-align: right;\">\n",
       "      <th></th>\n",
       "      <th>Actor ID 1</th>\n",
       "      <th>Movie ID</th>\n",
       "      <th>Lead Role</th>\n",
       "      <th>Degree Centrality</th>\n",
       "      <th>Closeness Centrality</th>\n",
       "      <th>Page Rank</th>\n",
       "    </tr>\n",
       "  </thead>\n",
       "  <tbody>\n",
       "    <tr>\n",
       "      <th>4</th>\n",
       "      <td>nm0000004</td>\n",
       "      <td>tt0077975</td>\n",
       "      <td>1</td>\n",
       "      <td>0.000161</td>\n",
       "      <td>0.000161</td>\n",
       "      <td>0.000161</td>\n",
       "    </tr>\n",
       "    <tr>\n",
       "      <th>2</th>\n",
       "      <td>nm0000004</td>\n",
       "      <td>tt0078723</td>\n",
       "      <td>1</td>\n",
       "      <td>0.000161</td>\n",
       "      <td>0.000161</td>\n",
       "      <td>0.000161</td>\n",
       "    </tr>\n",
       "    <tr>\n",
       "      <th>0</th>\n",
       "      <td>nm0000004</td>\n",
       "      <td>tt0080455</td>\n",
       "      <td>1</td>\n",
       "      <td>0.000161</td>\n",
       "      <td>0.000161</td>\n",
       "      <td>0.000161</td>\n",
       "    </tr>\n",
       "    <tr>\n",
       "      <th>6</th>\n",
       "      <td>nm0000045</td>\n",
       "      <td>tt0067824</td>\n",
       "      <td>1</td>\n",
       "      <td>0.000966</td>\n",
       "      <td>0.000966</td>\n",
       "      <td>0.000161</td>\n",
       "    </tr>\n",
       "    <tr>\n",
       "      <th>8</th>\n",
       "      <td>nm0000045</td>\n",
       "      <td>tt0068767</td>\n",
       "      <td>1</td>\n",
       "      <td>0.000966</td>\n",
       "      <td>0.000966</td>\n",
       "      <td>0.000161</td>\n",
       "    </tr>\n",
       "  </tbody>\n",
       "</table>\n",
       "</div>"
      ]
     },
     "execution_count": 15,
     "metadata": {},
     "output_type": "execute_result"
    }
   ],
   "execution_count": 15
  },
  {
   "cell_type": "code",
   "source": [
    "correlation_coefficient, p_value = pearsonr(df['Lead Role'], df['Degree Centrality'])\n",
    "print(f\"Pearson Correlation Coefficient: {correlation_coefficient}\")\n",
    "print(f\"P-value: {p_value}\")"
   ],
   "metadata": {
    "colab": {
     "base_uri": "https://localhost:8080/"
    },
    "id": "qp6h2HCiswJp",
    "outputId": "37607355-4e4d-4507-9ea4-7354209ea417",
    "ExecuteTime": {
     "end_time": "2025-04-25T20:32:13.468651Z",
     "start_time": "2025-04-25T20:32:13.458041Z"
    }
   },
   "outputs": [
    {
     "name": "stdout",
     "output_type": "stream",
     "text": [
      "Pearson Correlation Coefficient: -0.019065838710045326\n",
      "P-value: 0.01987475000084282\n"
     ]
    }
   ],
   "execution_count": 16
  },
  {
   "cell_type": "markdown",
   "source": [
    "# Analyzing Actor Co-starring communities"
   ],
   "metadata": {
    "id": "P83qut6z68A9"
   }
  },
  {
   "cell_type": "code",
   "source": [
    "pip install python-louvain"
   ],
   "metadata": {
    "colab": {
     "base_uri": "https://localhost:8080/"
    },
    "id": "9oICar68tz8Q",
    "outputId": "e2110ca6-e404-4257-ea29-c2d0288bf519",
    "ExecuteTime": {
     "end_time": "2025-04-25T20:32:41.380060Z",
     "start_time": "2025-04-25T20:32:15.844728Z"
    }
   },
   "outputs": [
    {
     "name": "stdout",
     "output_type": "stream",
     "text": [
      "Collecting python-louvain\n",
      "  Downloading python-louvain-0.16.tar.gz (204 kB)\n",
      "  Installing build dependencies: started\n",
      "  Installing build dependencies: finished with status 'done'\n",
      "  Getting requirements to build wheel: started\n",
      "  Getting requirements to build wheel: finished with status 'done'\n",
      "  Preparing metadata (pyproject.toml): started\n",
      "  Preparing metadata (pyproject.toml): finished with status 'done'\n",
      "Requirement already satisfied: networkx in c:\\users\\julia\\appdata\\local\\programs\\python\\python312\\lib\\site-packages (from python-louvain) (3.4.2)\n",
      "Requirement already satisfied: numpy in c:\\users\\julia\\appdata\\local\\programs\\python\\python312\\lib\\site-packages (from python-louvain) (2.1.2)\n",
      "Building wheels for collected packages: python-louvain\n",
      "  Building wheel for python-louvain (pyproject.toml): started\n",
      "  Building wheel for python-louvain (pyproject.toml): finished with status 'done'\n",
      "  Created wheel for python-louvain: filename=python_louvain-0.16-py3-none-any.whl size=9473 sha256=ee15eabfdfe55f9ed373d8a7f6403a5e0a3b2c9bc6265a0b8e7b577ce5c51d84\n",
      "  Stored in directory: c:\\users\\julia\\appdata\\local\\pip\\cache\\wheels\\40\\f1\\e3\\485b698c520fa0baee1d07897abc7b8d6479b7d199ce96f4af\n",
      "Successfully built python-louvain\n",
      "Installing collected packages: python-louvain\n",
      "Successfully installed python-louvain-0.16\n",
      "Note: you may need to restart the kernel to use updated packages.\n"
     ]
    }
   ],
   "execution_count": 17
  },
  {
   "cell_type": "code",
   "source": [
    "from community import community_louvain as louvain\n",
    "from collections import defaultdict\n",
    "\n",
    "partition = louvain.best_partition(G, random_state=11)\n",
    "\n",
    "largest_community = max(set(partition.values()), key=list(partition.values()).count)\n",
    "\n",
    "community_actors = [actor for actor in partition if partition[actor] == largest_community]\n",
    "\n",
    "movie_info = defaultdict(lambda: {'actors': [], 'title': None})\n",
    "\n",
    "for index, row in df.iterrows():\n",
    "    actor = row['Actor ID 1']\n",
    "    movie_id = row['Movie ID']\n",
    "\n",
    "    if actor in community_actors:\n",
    "        movie_info[movie_id]['actors'].extend(actor)\n",
    "        movie_info[movie_id]['title'] = df_actor_pairs[df_actor_pairs['Movie ID'] == movie_id]['Movie Title'].iloc[0]\n",
    "\n",
    "print(f\"Largest Community: {largest_community}\")\n",
    "print(\"Actors:\")\n",
    "for actor_id in community_actors:\n",
    "    actor = df_actor_pairs[(df_actor_pairs['Actor ID 1'] == actor_id)]['Actor 1']\n",
    "    if not actor.empty:\n",
    "        print('{0:5} {1}'.format(actor_id, actor.iloc[0]))\n",
    "    else:\n",
    "        actor = df_actor_pairs[df_actor_pairs['Actor ID 2'] == actor_id]['Actor 2']\n",
    "        if not actor.empty:\n",
    "          print('{0:5} {1}'.format(actor_id, actor.iloc[0]))\n",
    "print(\"\\nMovies:\")\n",
    "for movie_id, info in movie_info.items():\n",
    "    print('{0:5} {1:50} {2:5}'.format(movie_id, info['title'], len(info['actors'])))"
   ],
   "metadata": {
    "colab": {
     "base_uri": "https://localhost:8080/"
    },
    "id": "is6fprxZt4VF",
    "outputId": "5e1a1124-b45c-43b2-ccc0-0d2149b3c68b",
    "ExecuteTime": {
     "end_time": "2025-04-25T20:33:49.454499Z",
     "start_time": "2025-04-25T20:33:38.931617Z"
    }
   },
   "outputs": [
    {
     "name": "stdout",
     "output_type": "stream",
     "text": [
      "Largest Community: 46\n",
      "Actors:\n",
      "nm0000278 Pernilla August\n",
      "nm0000355 Anthony Daniels\n",
      "nm0000402 Carrie Fisher\n",
      "nm0001190 David Prowse\n",
      "nm0001385 Eric Idle\n",
      "nm0001519 Ian McDiarmid\n",
      "nm0001589 Michael Palin\n",
      "nm0001850 Billy Dee Williams\n",
      "nm0003296 C. Andrew Nelson\n",
      "nm0023030 Melissa Altro\n",
      "nm0029025 David Andriole\n",
      "nm0048652 Kenny Baker\n",
      "nm0050514 Michael Henbury Ballan\n",
      "nm0054929 Ken Barker\n",
      "nm0063027 Terence Bayler\n",
      "nm0078886 Ahmed Best\n",
      "nm0090124 Bruce Boa\n",
      "nm0102704 Peter Brace\n",
      "nm0120116 Jeremy Bulloch\n",
      "nm0123214 Peter Burroughs\n",
      "nm0159789 Hayden Christensen\n",
      "nm0171829 Kenneth Colley\n",
      "nm0174337 Tim Condren\n",
      "nm0203882 Oliver Ford Davies\n",
      "nm0212600 Derek Deadman\n",
      "nm0222318 Myrtle Devenish\n",
      "nm0225329 Joanna Dickens\n",
      "nm0228915 Malcolm Dixon\n",
      "nm0230301 Mark Dodson\n",
      "nm0249507 Mike Edmonds\n",
      "nm0284496 Phil Fondacaro\n",
      "nm0315557 John Ghavan\n",
      "nm0349822 Jennifer Guy\n",
      "nm0376405 Don Henderson\n",
      "nm0408017 Grant Imahara\n",
      "nm0409205 Harold Innocent\n",
      "nm0429104 Richard Jones\n",
      "nm0493200 Denis Lawson\n",
      "nm0507270 Howard Lew Lewis\n",
      "nm0562679 Peter Mayhew\n",
      "nm0680975 Toby Philpott\n",
      "nm0682837 Bonnie Piesse\n",
      "nm0687658 Terence Plummer\n",
      "nm0701023 Jack Purvis\n",
      "nm0701025 Katie Purvis\n",
      "nm0703934 Mike Quinn\n",
      "nm0741714 Tim Rose\n",
      "nm1835544 Jimmy Vee\n",
      "nm3485845 Adam Driver\n",
      "nm3729225 Gwendoline Christie\n",
      "nm3915784 John Boyega\n",
      "nm4511652 Kelly Marie Tran\n",
      "nm5397459 Daisy Ridley\n",
      "nm6556096 Tobias James-Samuels\n",
      "nm6609666 Billie Lourd\n",
      "nm0781181 Andy Secombe\n",
      "nm6934058 Joonas Suotamo\n",
      "nm0533665 Andrew MacLachlan\n",
      "nm0533914 Lewis Macleod\n",
      "nm0878741 Amanda Lucas\n",
      "nm0694219 Marcus Powell\n",
      "nm2330849 Paul Grant\n",
      "nm0641398 Gavan O'Herlihy\n",
      "nm0833380 Richard Strange\n",
      "nm0912095 Derek Ware\n",
      "nm0925123 Les White\n",
      "nm0891092 Peter Vaughan\n",
      "nm1019974 Bodie Taylor\n",
      "nm0724358 Terry Richards\n",
      "nm0298358 Tex Fuller\n",
      "nm0786823 Heather Seymour\n",
      "nm0743888 Tiny Ross\n",
      "nm0571650 Charles McKeown\n",
      "nm0568603 Geraldine McEwan\n",
      "\n",
      "Movies:\n",
      "tt0120915 Star Wars: Episode I - The Phantom Menace             81\n",
      "tt0121765 Star Wars: Episode II - Attack of the Clones          81\n",
      "tt0076759 Star Wars: Episode IV - A New Hope                    63\n",
      "tt0080684 Star Wars: Episode V - The Empire Strikes Back        99\n",
      "tt2488496 Star Wars: Episode VII - The Force Awakens           108\n",
      "tt2527336 Star Wars: Episode VIII - The Last Jedi              108\n",
      "tt0086190 Star Wars: Episode VI - Return of the Jedi           171\n",
      "tt0066921 A Clockwork Orange                                     9\n",
      "tt0085959 The Meaning of Life                                   45\n",
      "tt0096764 The Adventures of Baron Munchausen                    36\n",
      "tt0121766 Star Wars: Episode III - Revenge of the Sith          90\n",
      "tt2527338 Star Wars: Episode IX - The Rise of Skywalker         72\n",
      "tt0081633 Time Bandits                                         108\n",
      "tt0120647 Deep Impact                                           27\n",
      "tt4495098 Gran Turismo                                          27\n",
      "tt0080678 The Elephant Man                                      18\n",
      "tt0091369 Labyrinth                                             63\n",
      "tt0086393 Superman III                                          18\n",
      "tt0096446 Willow                                               108\n",
      "tt0096895 Batman                                                36\n",
      "tt0102798 Robin Hood: Prince of Thieves                         90\n",
      "tt0088846 Brazil                                               117\n",
      "tt0241527 Harry Potter and the Sorcerer's Stone                 18\n",
      "tt0086034 Octopussy                                             18\n",
      "tt0082971 Raiders of the Lost Ark                               18\n",
      "tt0080745 Flash Gordon                                          54\n",
      "tt0086006 Never Say Never Again                                 18\n",
      "tt0087363 Gremlins                                               9\n",
      "tt0088993 Day of the Dead                                        9\n",
      "tt0096438 Who Framed Roger Rabbit                               18\n",
      "tt0096454 Without a Clue                                        18\n",
      "tt0097499 Henry V                                               18\n",
      "tt0091225 Howard the Duck                                        9\n",
      "tt0078870 Black Jack                                             9\n",
      "tt0083564 Annie                                                  9\n",
      "tt0926084 Harry Potter and the Deathly Hallows: Part 1           9\n",
      "tt2066051 Rocketman                                              9\n",
      "tt3778644 Solo: A Star Wars Story                               27\n",
      "tt1951266 The Hunger Games: Mockingjay - Part 2                  9\n",
      "tt3402236 Murder on the Orient Express                           9\n"
     ]
    }
   ],
   "execution_count": 19
  },
  {
   "cell_type": "code",
   "source": [
    "community_degree_centrality = {}\n",
    "for community_id in set(partition.values()):\n",
    "    community_actors = [actor for actor in partition if partition[actor] == community_id]\n",
    "    sum_degree_centrality = 0\n",
    "    count = 0\n",
    "    for actor in community_actors:\n",
    "      sum_degree_centrality += df[df['Actor ID 1'] == actor]['Degree Centrality'].iloc[0]\n",
    "      count += 1\n",
    "    avg_degree_centrality = sum_degree_centrality / count\n",
    "    community_degree_centrality[community_id] = avg_degree_centrality\n",
    "\n",
    "highest_centrality_community = max(community_degree_centrality, key=community_degree_centrality.get)\n",
    "\n",
    "community_actors = [actor for actor, community in partition.items() if community == highest_centrality_community]\n",
    "community_movies = set()\n",
    "\n",
    "movie_info = defaultdict(lambda: {'actors': [], 'title': None})\n",
    "\n",
    "for index, row in df.iterrows():\n",
    "    actor = row['Actor ID 1']\n",
    "    movie_id = row['Movie ID']\n",
    "\n",
    "    if actor in community_actors:\n",
    "        movie_info[movie_id]['actors'].extend(actor)\n",
    "        movie_info[movie_id]['title'] = df_actor_pairs[df_actor_pairs['Movie ID'] == movie_id]['Movie Title'].iloc[0]\n",
    "\n",
    "prevalent_movies = dict(sorted(movie_info.items(), key=lambda item: len(item[1]['actors']), reverse=True)[:5])"
   ],
   "metadata": {
    "id": "JV0BECjWIcBK",
    "ExecuteTime": {
     "end_time": "2025-04-25T21:29:57.461199Z",
     "start_time": "2025-04-25T21:29:43.870839Z"
    }
   },
   "outputs": [],
   "execution_count": 20
  },
  {
   "cell_type": "code",
   "source": [
    "print(f\"Highest Average Degree Centrality: {community_degree_centrality[highest_centrality_community]}\")\n",
    "print(f\"Community with highest average degree centrality:\")\n",
    "for actor_id in community_actors:\n",
    "    actor = df_actor_pairs[(df_actor_pairs['Actor ID 1'] == actor_id)]['Actor 1']\n",
    "    if not actor.empty:\n",
    "        print('{0:5} {1}'.format(actor_id, actor.iloc[0]))\n",
    "    else:\n",
    "        actor = df_actor_pairs[df_actor_pairs['Actor ID 2'] == actor_id]['Actor 2']\n",
    "        if not actor.empty:\n",
    "          print('{0:5} {1}'.format(actor_id, actor.iloc[0]))\n",
    "print(\"Prevalent Movies:\")\n",
    "for movie_id, count in prevalent_movies.items():\n",
    "    movie_title = df_actor_pairs[df_actor_pairs['Movie ID'] == movie_id]['Movie Title'].iloc[0]\n",
    "    print(f\"- {movie_title} (appeared {len(count['actors'])} times)\")"
   ],
   "metadata": {
    "colab": {
     "base_uri": "https://localhost:8080/"
    },
    "id": "8AM4iU5wTth6",
    "outputId": "6afac7a1-7224-4c94-96b5-3898b8d06cb1",
    "ExecuteTime": {
     "end_time": "2025-04-25T21:31:10.412267Z",
     "start_time": "2025-04-25T21:31:08.988266Z"
    }
   },
   "outputs": [
    {
     "name": "stdout",
     "output_type": "stream",
     "text": [
      "Highest Average Degree Centrality: 0.003319335818579638\n",
      "Community with highest average degree centrality:\n",
      "nm0000239 Liv Tyler\n",
      "nm0000276 Sean Astin\n",
      "nm0000293 Sean Bean\n",
      "nm0000453 Ian Holm\n",
      "nm0000489 Christopher Lee\n",
      "nm0000704 Elijah Wood\n",
      "nm0001557 Viggo Mortensen\n",
      "nm0001584 Miranda Otto\n",
      "nm0005212 Ian McKellen\n",
      "nm0032370 Noel Appleby\n",
      "nm0045324 John Bach\n",
      "nm0089217 Orlando Bloom\n",
      "nm0101710 Billy Boyd\n",
      "nm0112400 Jed Brophy\n",
      "nm0122591 Bob Burns\n",
      "nm0132426 Eddie Campbell\n",
      "nm0384060 Bernard Hill\n",
      "nm0394126 Bruce Hopkins\n",
      "nm0397102 Alan Howard\n",
      "nm0413309 Billy Jackson\n",
      "nm0538692 Lawrence Makoare\n",
      "nm0572867 Sarah McLeod\n",
      "nm0597480 Dominic Monaghan\n",
      "nm0633604 John Noble\n",
      "nm0662164 Craig Parker\n",
      "nm0680273 Bruce Phillips\n",
      "nm0689692 Robert Pollock\n",
      "nm0721615 Don Reynolds\n",
      "nm0722636 John Rhys-Davies\n",
      "nm0728119 Todd Rippon\n",
      "nm0881631 Karl Urban\n",
      "nm0881831 Stephen Ure\n",
      "nm0915989 Hugo Weaving\n",
      "nm0920992 David Wenham\n",
      "nm1115856 Phil Grieve\n",
      "nm1116175 Katie Jackson\n",
      "nm1401687 Ben Britton\n",
      "nm0838605 John Sumner\n",
      "nm0236911 Glen Drake\n",
      "nm0424592 William Johnson\n",
      "nm0809572 Pete Smith\n",
      "Prevalent Movies:\n",
      "- The Lord of the Rings: The Return of the King (appeared 288 times)\n",
      "- The Lord of the Rings: The Two Towers (appeared 252 times)\n",
      "- The Lord of the Rings: The Fellowship of the Ring (appeared 216 times)\n",
      "- King Kong (appeared 63 times)\n",
      "- The Lovely Bones (appeared 36 times)\n"
     ]
    }
   ],
   "execution_count": 22
  },
  {
   "cell_type": "markdown",
   "source": [
    "# Central Actors in Genre Networks"
   ],
   "metadata": {
    "id": "CO-K1l4s7a9Z"
   }
  },
  {
   "cell_type": "code",
   "source": [
    "keys = ['Action','Adventure', 'Animation', 'Comedy', 'Crime', 'Drama', 'Fantasy',\n",
    "'Horror', 'Musical', 'Mystery', 'Romance', 'Sci-Fi', 'Thriller']\n",
    "graphs_dict = {}\n",
    "for key in keys:\n",
    "  graphs_dict[key] = nx.Graph()\n",
    "  graphs_dict[key].add_nodes_from(actors)\n",
    "\n",
    "actor_pair_genres = defaultdict(list)\n",
    "for _, row in df_actor_pairs.iterrows():\n",
    "    actor_pair = tuple((row['Actor ID 1'], row['Actor ID 2']))\n",
    "    actor_pair_genres[actor_pair].extend(row['Genres'].split(','))\n",
    "\n",
    "for index, row in filtered_pairs.iterrows():\n",
    "  actor_pair = tuple((row['Actor ID 1'], row['Actor ID 2']))\n",
    "  genres = actor_pair_genres[actor_pair]\n",
    "  for key in genres:\n",
    "    if key in keys:\n",
    "     graphs_dict[key].add_edge(row['Actor ID 1'], row['Actor ID 2'], weight=row['appearances'])\n",
    "for key in keys:\n",
    "  isolated_nodes = list(nx.isolates(graphs_dict[key]))\n",
    "  graphs_dict[key].remove_nodes_from(isolated_nodes)"
   ],
   "metadata": {
    "id": "xk8YnS5qKboe",
    "ExecuteTime": {
     "end_time": "2025-04-25T21:31:54.530569Z",
     "start_time": "2025-04-25T21:31:22.438136Z"
    }
   },
   "outputs": [],
   "execution_count": 23
  },
  {
   "cell_type": "code",
   "source": [
    "top_10_actors_by_genre = {}\n",
    "\n",
    "for genre, graph in graphs_dict.items():\n",
    "    if graph.number_of_nodes() > 0:\n",
    "        degree_centrality = nx.degree_centrality(graph)\n",
    "        top_10 = sorted(degree_centrality.items(), key=lambda item: item[1], reverse=True)[:10]\n",
    "        top_10_actors_by_genre[genre] = top_10\n",
    "    else:\n",
    "        print(f\"Genre '{genre}' graph is empty.\")\n",
    "\n",
    "for genre, top_actors in top_10_actors_by_genre.items():\n",
    "    print(f\"\\n{genre}:\")\n",
    "    for actor_id, centrality in top_actors:\n",
    "        actor_name = df_actor_pairs[df_actor_pairs['Actor ID 1'] == actor_id]['Actor 1'].iloc[0]\n",
    "        print('- {0:5} {1}'.format(actor_id, actor_name))"
   ],
   "metadata": {
    "colab": {
     "base_uri": "https://localhost:8080/"
    },
    "id": "Lzz2zzUeNTM9",
    "outputId": "37a8a41b-475f-4558-fe6a-4ded57482c5a",
    "ExecuteTime": {
     "end_time": "2025-04-25T21:32:23.091673Z",
     "start_time": "2025-04-25T21:32:19.101511Z"
    }
   },
   "outputs": [
    {
     "name": "stdout",
     "output_type": "stream",
     "text": [
      "\n",
      "Action:\n",
      "- nm1116175 Katie Jackson\n",
      "- nm0000276 Sean Astin\n",
      "- nm0000704 Elijah Wood\n",
      "- nm0005212 Ian McKellen\n",
      "- nm0089217 Orlando Bloom\n",
      "- nm0101710 Billy Boyd\n",
      "- nm0413309 Billy Jackson\n",
      "- nm0597480 Dominic Monaghan\n",
      "- nm0721615 Don Reynolds\n",
      "- nm0722636 John Rhys-Davies\n",
      "\n",
      "Adventure:\n",
      "- nm1116175 Katie Jackson\n",
      "- nm0000276 Sean Astin\n",
      "- nm0000704 Elijah Wood\n",
      "- nm0005212 Ian McKellen\n",
      "- nm0089217 Orlando Bloom\n",
      "- nm0101710 Billy Boyd\n",
      "- nm0413309 Billy Jackson\n",
      "- nm0597480 Dominic Monaghan\n",
      "- nm0721615 Don Reynolds\n",
      "- nm0722636 John Rhys-Davies\n",
      "\n",
      "Animation:\n",
      "- nm1236503 Z. Charles Bolton\n",
      "- nm1267353 Darrell Waltrip\n",
      "- nm0909274 Michael Wallis\n",
      "- nm0038290 Yôko Asagami\n",
      "- nm0386380 Taichirô Hirokawa\n",
      "- nm0454083 Akira Kimura\n",
      "- nm0620138 Shûsei Nakamura\n",
      "- nm0623214 Gorô Naya\n",
      "- nm0866753 Kei Tomiyama\n",
      "- nm0946597 Yoshito Yasuhara\n",
      "\n",
      "Comedy:\n",
      "- nm0919169 Shaun Weiss\n",
      "- nm1005785 Gwenda Perez\n",
      "- nm0019783 Caner Alkaya\n",
      "- nm0230596 Matt Doherty\n",
      "- nm0489364 Vincent LaRusso\n",
      "- nm0746626 Cassie Rowell\n",
      "- nm0869290 Erdal Tosun\n",
      "- nm0059941 Cezmi Baskin\n",
      "- nm0319909 Bican Günalan\n",
      "- nm0758659 Tuncer Salman\n",
      "\n",
      "Crime:\n",
      "- nm0027800 Peter Andersson\n",
      "- nm0259132 Jacob Ericksson\n",
      "- nm0356625 Annika Hallin\n",
      "- nm0468110 Michalis Koutsogiannakis\n",
      "- nm0821551 Georgi Staykov\n",
      "- nm1924042 Sofia Papadimitriou Ledarp\n",
      "- nm2138324 Tehilla Blad\n",
      "- nm0000235 Uma Thurman\n",
      "- nm0237838 Julie Dreyfus\n",
      "- nm0405834 Donald Högberg\n",
      "\n",
      "Drama:\n",
      "- nm1116175 Katie Jackson\n",
      "- nm0000276 Sean Astin\n",
      "- nm0000704 Elijah Wood\n",
      "- nm0005212 Ian McKellen\n",
      "- nm0089217 Orlando Bloom\n",
      "- nm0101710 Billy Boyd\n",
      "- nm0413309 Billy Jackson\n",
      "- nm0597480 Dominic Monaghan\n",
      "- nm0721615 Don Reynolds\n",
      "- nm0722636 John Rhys-Davies\n",
      "\n",
      "Fantasy:\n",
      "- nm2121541 Evanna Lynch\n",
      "- nm0942247 Bonnie Wright\n",
      "- nm1715136 Afshan Azad\n",
      "- nm1327430 Georgina Leonidas\n",
      "- nm2728165 Jessie Cave\n",
      "- nm2872264 Anna Shaffer\n",
      "- nm2877285 Isabella Laughland\n",
      "- nm2906885 Scarlett Hefner\n",
      "- nm1648520 Katie Leung\n",
      "- nm1701576 William Melling\n",
      "\n",
      "Horror:\n",
      "- nm1127359 Aleksandr Samoylenko\n",
      "- nm1128120 Aleksey Chadov\n",
      "- nm0239598 Anna Dubrovskaya\n",
      "- nm0450975 Konstantin Khabenskiy\n",
      "- nm0476544 Gosha Kutsenko\n",
      "- nm0548635 Rimma Markova\n",
      "- nm0579828 Vladimir Menshov\n",
      "- nm0592499 Mariya Mironova\n",
      "- nm0648243 Nikolay Olyalin\n",
      "- nm0879218 Galina Tyunina\n",
      "\n",
      "Musical:\n",
      "- nm0929356 Colm Wilkinson\n",
      "- nm2415822 Killian Donnelly\n",
      "- nm4140852 Katie Hall\n",
      "- nm0028934 Helena Andreyko\n",
      "- nm0308144 John Robert Garrett\n",
      "- nm0287038 Edmond Alan Forsyth\n",
      "- nm0174883 Didi Conn\n",
      "- nm0329060 Dody Goodman\n",
      "- nm0666191 Dick Patterson\n",
      "- nm0912039 Gemma Wardle\n",
      "\n",
      "Mystery:\n",
      "- nm0027800 Peter Andersson\n",
      "- nm0259132 Jacob Ericksson\n",
      "- nm0304985 Yasmine Garbi\n",
      "- nm0356625 Annika Hallin\n",
      "- nm0468110 Michalis Koutsogiannakis\n",
      "- nm0636426 Noomi Rapace\n",
      "- nm0758612 Reuben Sallmander\n",
      "- nm0821551 Georgi Staykov\n",
      "- nm1924042 Sofia Papadimitriou Ledarp\n",
      "- nm2138324 Tehilla Blad\n",
      "\n",
      "Romance:\n",
      "- nm1005785 Gwenda Perez\n",
      "- nm0746626 Cassie Rowell\n",
      "- nm2230865 Ashley Greene\n",
      "- nm0452770 Vera Kiiskinen\n",
      "- nm0550982 Kathleen Marshall\n",
      "- nm1210124 Taylor Lautner\n",
      "- nm0403250 Pekka Huotari\n",
      "- nm0405396 Janne Hyytiäinen\n",
      "- nm0416147 Ritva Jalonen\n",
      "- nm0433502 Jonna Järnefelt\n",
      "\n",
      "Sci-Fi:\n",
      "- nm3094377 Willow Shields\n",
      "- nm0235243 Sarah Douglas\n",
      "- nm0674781 Valerie Perrine\n",
      "- nm0178114 Jackie Cooper\n",
      "- nm0501697 Mark Lenard\n",
      "- nm0926298 Grace Lee Whitney\n",
      "- nm0000479 Walter Koenig\n",
      "- nm0000559 Leonard Nimoy\n",
      "- nm0001150 James Doohan\n",
      "- nm0391197 John Hollis\n",
      "\n",
      "Thriller:\n",
      "- nm0000235 Uma Thurman\n",
      "- nm0237838 Julie Dreyfus\n",
      "- nm0002002 Shin'ichi Chiba\n",
      "- nm0013976 Anders Ahlbom Rosendahl\n",
      "- nm0027800 Peter Andersson\n",
      "- nm0259132 Jacob Ericksson\n",
      "- nm0356625 Annika Hallin\n",
      "- nm0387141 Niklas Hjulström\n",
      "- nm0405834 Donald Högberg\n",
      "- nm0443569 Yuki Kazamatsuri\n"
     ]
    }
   ],
   "execution_count": 25
  },
  {
   "cell_type": "code",
   "source": [
    "import matplotlib.pyplot as plt\n",
    "import numpy as np\n",
    "\n",
    "avg_centralities = {}\n",
    "for genre, graph in graphs_dict.items():\n",
    "    if graph.number_of_nodes() > 0:\n",
    "        degree_centrality = nx.degree_centrality(graph)\n",
    "        avg_centralities[genre] = np.mean(list(degree_centrality.values()))\n",
    "    else:\n",
    "        print(f\"Genre '{genre}' graph is empty.\")\n",
    "\n",
    "genres = list(avg_centralities.keys())\n",
    "centralities = list(avg_centralities.values())\n",
    "\n",
    "\n",
    "plt.figure(figsize=(12, 6))\n",
    "plt.bar(genres, centralities, color='skyblue')\n",
    "plt.xlabel(\"Genres\")\n",
    "plt.ylabel(\"Average Degree Centrality\")\n",
    "plt.title(\"Average Degree Centrality Across Genres\")\n",
    "plt.xticks(rotation=45, ha='right')\n",
    "plt.tight_layout()\n",
    "plt.show()\n",
    "\n",
    "sorted_centralities = sorted(avg_centralities.items(), key=lambda x: x[1], reverse=True)\n",
    "\n",
    "print(\"Genres ranked by average centrality:\")\n",
    "for genre, centrality in sorted_centralities:\n",
    "    print(f\"- {genre}: {centrality}\")"
   ],
   "metadata": {
    "colab": {
     "base_uri": "https://localhost:8080/",
     "height": 735
    },
    "id": "htO6bhAMP1ad",
    "outputId": "590e2766-43ee-4b95-ddd0-af73b1fec5ad",
    "ExecuteTime": {
     "end_time": "2025-04-25T21:32:40.146342Z",
     "start_time": "2025-04-25T21:32:37.466246Z"
    }
   },
   "outputs": [
    {
     "data": {
      "text/plain": [
       "<Figure size 1200x600 with 1 Axes>"
      ],
      "image/png": "[encoded data removed]"
     },
     "metadata": {},
     "output_type": "display_data"
    },
    {
     "name": "stdout",
     "output_type": "stream",
     "text": [
      "Genres ranked by average centrality:\n",
      "- Animation: 0.020134228187919465\n",
      "- Musical: 0.0056103501976600256\n",
      "- Horror: 0.005083088954056695\n",
      "- Fantasy: 0.004990974987823396\n",
      "- Sci-Fi: 0.0034200107804687645\n",
      "- Mystery: 0.002042610404385148\n",
      "- Adventure: 0.0018564460428027662\n",
      "- Thriller: 0.0012713007942015575\n",
      "- Romance: 0.001146131805157593\n",
      "- Action: 0.0010062811977798196\n",
      "- Crime: 0.001003976092404592\n",
      "- Comedy: 0.0007844032355937583\n",
      "- Drama: 0.0004818972349530589\n"
     ]
    }
   ],
   "execution_count": 26
  }
 ]
}
